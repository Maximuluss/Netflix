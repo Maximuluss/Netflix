{
 "cells": [
  {
   "cell_type": "code",
   "execution_count": 26,
   "metadata": {},
   "outputs": [],
   "source": [
    "import pandas as pd\n",
    "\n",
    "import matplotlib.pyplot as plt\n",
    "\n",
    "file_path = r'C:\\Users\\Clement.Martin.SHANGRI-LA\\Desktop\\Python\\Netflix\\Netflix.Data\\netflix_titles.csv'\n",
    "\n"
   ]
  },
  {
   "cell_type": "code",
   "execution_count": 35,
   "metadata": {},
   "outputs": [
    {
     "name": "stdout",
     "output_type": "stream",
     "text": [
      "    Year  Title\n",
      "0   2008      2\n",
      "1   2009      2\n",
      "2   2010      1\n",
      "3   2011     13\n",
      "4   2012      3\n",
      "5   2013     10\n",
      "6   2014     23\n",
      "7   2015     73\n",
      "8   2016    418\n",
      "9   2017   1164\n",
      "10  2018   1625\n",
      "11  2019   1999\n",
      "12  2020   1878\n",
      "13  2021   1498\n"
     ]
    },
    {
     "data": {
      "text/plain": [
       "<function matplotlib.pyplot.show(close=None, block=None)>"
      ]
     },
     "execution_count": 35,
     "metadata": {},
     "output_type": "execute_result"
    },
    {
     "data": {
      "image/png": "[encoded data removed]",
      "text/plain": [
       "<Figure size 640x480 with 1 Axes>"
      ]
     },
     "metadata": {},
     "output_type": "display_data"
    }
   ],
   "source": [
    "\n",
    "\n",
    "# Load data from CSV file to dataframe\n",
    "df = pd.read_csv(file_path)\n",
    "\n",
    "# Change the date format\n",
    "df['Date'] = pd.to_datetime(df['date_added'], errors='coerce', dayfirst= False, format='%B %d, %Y')\n",
    "\n",
    "# Extract the year from the date column\n",
    "df['Year'] = pd.DatetimeIndex(df['Date']).year\n",
    "\n",
    "# Filter out empty rows\n",
    "df = df[df['Year'].notnull()]\n",
    "\n",
    "# Change the Year column format from float to int\n",
    "df['Year'] = df['Year'].astype(int)\n",
    "\n",
    "# Renive unnecessary columns\n",
    "df = df[['title', 'Year']]\n",
    "\n",
    "# Rename the 'title' column to 'Title'\n",
    "df = df.rename(columns={'title':'Title'})\n",
    "\n",
    "# Group rows by year\n",
    "df_group = df.groupby(by='Year').count()\n",
    "\n",
    "# Revert the groupby object back to a dataframe\n",
    "df_group = df_group.reset_index()\n",
    "\n",
    "# Print result\n",
    "print(df_group)\n",
    "\n",
    "# Create the plot\n",
    "plt.bar(df_group['Year'],df_group['Title'],color='orange')\n",
    "\n",
    "# Print plot\n",
    "plt.show"
   ]
  },
  {
   "cell_type": "code",
   "execution_count": null,
   "metadata": {},
   "outputs": [],
   "source": []
  }
 ],
 "metadata": {
  "kernelspec": {
   "display_name": "Python 3",
   "language": "python",
   "name": "python3"
  },
  "language_info": {
   "codemirror_mode": {
    "name": "ipython",
    "version": 3
   },
   "file_extension": ".py",
   "mimetype": "text/x-python",
   "name": "python",
   "nbconvert_exporter": "python",
   "pygments_lexer": "ipython3",
   "version": "3.12.2"
  }
 },
 "nbformat": 4,
 "nbformat_minor": 2
}
